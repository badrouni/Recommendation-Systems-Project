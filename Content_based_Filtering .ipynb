{
  "cells": [
    {
      "cell_type": "code",
      "execution_count": null,
      "metadata": {
        "id": "_gUM0aDbZB-9"
      },
      "outputs": [],
      "source": [
        "pip install sklearn"
      ]
    },
    {
      "cell_type": "code",
      "execution_count": null,
      "metadata": {
        "id": "I0lz6fbeZB_B",
        "outputId": "8e849ddd-0759-41b7-a058-ecd4ed7f1344"
      },
      "outputs": [
        {
          "name": "stdout",
          "output_type": "stream",
          "text": [
            "Note: you may need to restart the kernel to use updated packages.\n"
          ]
        },
        {
          "name": "stderr",
          "output_type": "stream",
          "text": [
            "WARNING: Retrying (Retry(total=4, connect=None, read=None, redirect=None, status=None)) after connection broken by 'NewConnectionError('<pip._vendor.urllib3.connection.HTTPSConnection object at 0x000002B022A54520>: Failed to establish a new connection: [Errno 11001] getaddrinfo failed')': /simple/sklearn/\n",
            "WARNING: Retrying (Retry(total=3, connect=None, read=None, redirect=None, status=None)) after connection broken by 'NewConnectionError('<pip._vendor.urllib3.connection.HTTPSConnection object at 0x000002B022A54760>: Failed to establish a new connection: [Errno 11001] getaddrinfo failed')': /simple/sklearn/\n",
            "WARNING: Retrying (Retry(total=2, connect=None, read=None, redirect=None, status=None)) after connection broken by 'NewConnectionError('<pip._vendor.urllib3.connection.HTTPSConnection object at 0x000002B022A54940>: Failed to establish a new connection: [Errno 11001] getaddrinfo failed')': /simple/sklearn/\n",
            "WARNING: Retrying (Retry(total=1, connect=None, read=None, redirect=None, status=None)) after connection broken by 'NewConnectionError('<pip._vendor.urllib3.connection.HTTPSConnection object at 0x000002B022A54B20>: Failed to establish a new connection: [Errno 11001] getaddrinfo failed')': /simple/sklearn/\n",
            "WARNING: Retrying (Retry(total=0, connect=None, read=None, redirect=None, status=None)) after connection broken by 'NewConnectionError('<pip._vendor.urllib3.connection.HTTPSConnection object at 0x000002B022A54D00>: Failed to establish a new connection: [Errno 11001] getaddrinfo failed')': /simple/sklearn/\n",
            "ERROR: Could not find a version that satisfies the requirement sklearn\n",
            "ERROR: No matching distribution found for sklearn\n"
          ]
        }
      ],
      "source": [
        "import pandas as pd\n",
        "import numpy as np\n",
        "import random"
      ]
    },
    {
      "cell_type": "code",
      "execution_count": null,
      "metadata": {
        "id": "xmEoSI5RZB_C"
      },
      "outputs": [],
      "source": [
        "movies_dataset=pd.read_csv('movies.csv')\n",
        "ratings_dataset=pd.read_csv('ratings.csv')"
      ]
    },
    {
      "cell_type": "code",
      "execution_count": null,
      "metadata": {
        "id": "3JLfqnEBZB_C",
        "outputId": "6eeb30c3-5da5-4e2d-d00b-1099466b55c0"
      },
      "outputs": [
        {
          "name": "stdout",
          "output_type": "stream",
          "text": [
            "(9125, 3)\n",
            "(100004, 4)\n"
          ]
        }
      ],
      "source": [
        "print(movies_dataset.shape )\n",
        "print(ratings_dataset.shape )"
      ]
    },
    {
      "cell_type": "code",
      "execution_count": null,
      "metadata": {
        "id": "ZyAonQMwZB_D",
        "outputId": "36a92435-5b8b-4944-9993-f67999b10ad4"
      },
      "outputs": [
        {
          "data": {
            "text/html": [
              "<div>\n",
              "<style scoped>\n",
              "    .dataframe tbody tr th:only-of-type {\n",
              "        vertical-align: middle;\n",
              "    }\n",
              "\n",
              "    .dataframe tbody tr th {\n",
              "        vertical-align: top;\n",
              "    }\n",
              "\n",
              "    .dataframe thead th {\n",
              "        text-align: right;\n",
              "    }\n",
              "</style>\n",
              "<table border=\"1\" class=\"dataframe\">\n",
              "  <thead>\n",
              "    <tr style=\"text-align: right;\">\n",
              "      <th></th>\n",
              "      <th>movieId</th>\n",
              "      <th>title</th>\n",
              "      <th>genres</th>\n",
              "    </tr>\n",
              "  </thead>\n",
              "  <tbody>\n",
              "    <tr>\n",
              "      <th>0</th>\n",
              "      <td>1</td>\n",
              "      <td>Toy Story (1995)</td>\n",
              "      <td>Adventure|Animation|Children|Comedy|Fantasy</td>\n",
              "    </tr>\n",
              "    <tr>\n",
              "      <th>1</th>\n",
              "      <td>2</td>\n",
              "      <td>Jumanji (1995)</td>\n",
              "      <td>Adventure|Children|Fantasy</td>\n",
              "    </tr>\n",
              "    <tr>\n",
              "      <th>2</th>\n",
              "      <td>3</td>\n",
              "      <td>Grumpier Old Men (1995)</td>\n",
              "      <td>Comedy|Romance</td>\n",
              "    </tr>\n",
              "    <tr>\n",
              "      <th>3</th>\n",
              "      <td>4</td>\n",
              "      <td>Waiting to Exhale (1995)</td>\n",
              "      <td>Comedy|Drama|Romance</td>\n",
              "    </tr>\n",
              "    <tr>\n",
              "      <th>4</th>\n",
              "      <td>5</td>\n",
              "      <td>Father of the Bride Part II (1995)</td>\n",
              "      <td>Comedy</td>\n",
              "    </tr>\n",
              "  </tbody>\n",
              "</table>\n",
              "</div>"
            ],
            "text/plain": [
              "   movieId                               title  \\\n",
              "0        1                    Toy Story (1995)   \n",
              "1        2                      Jumanji (1995)   \n",
              "2        3             Grumpier Old Men (1995)   \n",
              "3        4            Waiting to Exhale (1995)   \n",
              "4        5  Father of the Bride Part II (1995)   \n",
              "\n",
              "                                        genres  \n",
              "0  Adventure|Animation|Children|Comedy|Fantasy  \n",
              "1                   Adventure|Children|Fantasy  \n",
              "2                               Comedy|Romance  \n",
              "3                         Comedy|Drama|Romance  \n",
              "4                                       Comedy  "
            ]
          },
          "execution_count": 4,
          "metadata": {},
          "output_type": "execute_result"
        }
      ],
      "source": [
        "movies_dataset.head(5)"
      ]
    },
    {
      "cell_type": "code",
      "execution_count": null,
      "metadata": {
        "id": "kTTJFNI7ZB_E",
        "outputId": "cdcdb2f9-4ccb-4b50-e325-9eb67e7919ac"
      },
      "outputs": [
        {
          "data": {
            "text/html": [
              "<div>\n",
              "<style scoped>\n",
              "    .dataframe tbody tr th:only-of-type {\n",
              "        vertical-align: middle;\n",
              "    }\n",
              "\n",
              "    .dataframe tbody tr th {\n",
              "        vertical-align: top;\n",
              "    }\n",
              "\n",
              "    .dataframe thead th {\n",
              "        text-align: right;\n",
              "    }\n",
              "</style>\n",
              "<table border=\"1\" class=\"dataframe\">\n",
              "  <thead>\n",
              "    <tr style=\"text-align: right;\">\n",
              "      <th></th>\n",
              "      <th>userId</th>\n",
              "      <th>movieId</th>\n",
              "      <th>rating</th>\n",
              "      <th>timestamp</th>\n",
              "    </tr>\n",
              "  </thead>\n",
              "  <tbody>\n",
              "    <tr>\n",
              "      <th>0</th>\n",
              "      <td>1</td>\n",
              "      <td>31</td>\n",
              "      <td>2.5</td>\n",
              "      <td>1260759144</td>\n",
              "    </tr>\n",
              "    <tr>\n",
              "      <th>1</th>\n",
              "      <td>1</td>\n",
              "      <td>1029</td>\n",
              "      <td>3.0</td>\n",
              "      <td>1260759179</td>\n",
              "    </tr>\n",
              "    <tr>\n",
              "      <th>2</th>\n",
              "      <td>1</td>\n",
              "      <td>1061</td>\n",
              "      <td>3.0</td>\n",
              "      <td>1260759182</td>\n",
              "    </tr>\n",
              "    <tr>\n",
              "      <th>3</th>\n",
              "      <td>1</td>\n",
              "      <td>1129</td>\n",
              "      <td>2.0</td>\n",
              "      <td>1260759185</td>\n",
              "    </tr>\n",
              "    <tr>\n",
              "      <th>4</th>\n",
              "      <td>1</td>\n",
              "      <td>1172</td>\n",
              "      <td>4.0</td>\n",
              "      <td>1260759205</td>\n",
              "    </tr>\n",
              "  </tbody>\n",
              "</table>\n",
              "</div>"
            ],
            "text/plain": [
              "   userId  movieId  rating   timestamp\n",
              "0       1       31     2.5  1260759144\n",
              "1       1     1029     3.0  1260759179\n",
              "2       1     1061     3.0  1260759182\n",
              "3       1     1129     2.0  1260759185\n",
              "4       1     1172     4.0  1260759205"
            ]
          },
          "execution_count": 5,
          "metadata": {},
          "output_type": "execute_result"
        }
      ],
      "source": [
        "ratings_dataset.head(5)"
      ]
    },
    {
      "cell_type": "code",
      "execution_count": null,
      "metadata": {
        "id": "C5mJ5LZcZB_E",
        "outputId": "ecc9be4d-0146-4272-be0b-08c06a7f8e34"
      },
      "outputs": [
        {
          "data": {
            "text/plain": [
              "0       [Adventure, Animation, Children, Comedy, Fantasy]\n",
              "1                          [Adventure, Children, Fantasy]\n",
              "2                                       [Comedy, Romance]\n",
              "3                                [Comedy, Drama, Romance]\n",
              "4                                                [Comedy]\n",
              "                              ...                        \n",
              "9120                          [Adventure, Drama, Romance]\n",
              "9121                 [Action, Adventure, Fantasy, Sci-Fi]\n",
              "9122                                        [Documentary]\n",
              "9123                                             [Comedy]\n",
              "9124                                        [Documentary]\n",
              "Name: new, Length: 9125, dtype: object"
            ]
          },
          "execution_count": 6,
          "metadata": {},
          "output_type": "execute_result"
        }
      ],
      "source": [
        "movies_dataset['new'] = movies_dataset.genres.str.split('|')\n",
        "movies_dataset['new']"
      ]
    },
    {
      "cell_type": "code",
      "execution_count": null,
      "metadata": {
        "id": "0ucm90HGZB_G"
      },
      "outputs": [],
      "source": [
        "movies_dataset['year'] = movies_dataset.title.str.extract('(\\(\\d\\d\\d\\d\\))',expand=False)\n",
        "movies_dataset['year'] = movies_dataset.year.str.extract('(\\d\\d\\d\\d)',expand=False)"
      ]
    },
    {
      "cell_type": "code",
      "execution_count": null,
      "metadata": {
        "id": "f9P3jcy7ZB_G"
      },
      "outputs": [],
      "source": [
        "movies_dataset['movie_name']= movies_dataset.title.str.replace(' (\\(\\d\\d\\d\\d\\))', '', regex=True)"
      ]
    },
    {
      "cell_type": "code",
      "execution_count": null,
      "metadata": {
        "id": "NTGAa1kCZB_H"
      },
      "outputs": [],
      "source": [
        "movies_dataset['new']=movies_dataset['new'].apply(' '.join)"
      ]
    },
    {
      "cell_type": "code",
      "execution_count": null,
      "metadata": {
        "id": "zmHd-MO0ZB_H"
      },
      "outputs": [],
      "source": [
        "from sklearn.feature_extraction.text import TfidfVectorizer"
      ]
    },
    {
      "cell_type": "code",
      "execution_count": null,
      "metadata": {
        "id": "aKEYAh4kZB_I"
      },
      "outputs": [],
      "source": [
        "tfid=TfidfVectorizer(stop_words='english')\n",
        "matrix=tfid.fit_transform(movies_dataset['new'])"
      ]
    },
    {
      "cell_type": "code",
      "execution_count": null,
      "metadata": {
        "id": "VJvJJ55kZB_I"
      },
      "outputs": [],
      "source": [
        "#Compute the cosine similarity of every genre\n",
        "from sklearn.metrics.pairwise import cosine_similarity\n"
      ]
    },
    {
      "cell_type": "code",
      "execution_count": null,
      "metadata": {
        "id": "ZD1nhq_iZB_J"
      },
      "outputs": [],
      "source": [
        "cosine_sim=cosine_similarity(matrix,matrix)"
      ]
    },
    {
      "cell_type": "code",
      "execution_count": null,
      "metadata": {
        "id": "7ZR4exPkZB_J"
      },
      "outputs": [],
      "source": [
        "#Movie name and movie id\n",
        "movies_dataset = movies_dataset.reset_index()\n",
        "titles = movies_dataset['movie_name']\n",
        "indices = pd.Series(movies_dataset.index, index=movies_dataset['movie_name'])"
      ]
    },
    {
      "cell_type": "code",
      "execution_count": null,
      "metadata": {
        "id": "jDGtO_vVZB_J",
        "outputId": "50709f14-111b-48e3-abb9-bf564ab90b03"
      },
      "outputs": [
        {
          "data": {
            "text/html": [
              "<div>\n",
              "<style scoped>\n",
              "    .dataframe tbody tr th:only-of-type {\n",
              "        vertical-align: middle;\n",
              "    }\n",
              "\n",
              "    .dataframe tbody tr th {\n",
              "        vertical-align: top;\n",
              "    }\n",
              "\n",
              "    .dataframe thead th {\n",
              "        text-align: right;\n",
              "    }\n",
              "</style>\n",
              "<table border=\"1\" class=\"dataframe\">\n",
              "  <thead>\n",
              "    <tr style=\"text-align: right;\">\n",
              "      <th></th>\n",
              "      <th>index</th>\n",
              "      <th>movieId</th>\n",
              "      <th>title</th>\n",
              "      <th>genres</th>\n",
              "      <th>new</th>\n",
              "      <th>year</th>\n",
              "      <th>movie_name</th>\n",
              "    </tr>\n",
              "  </thead>\n",
              "  <tbody>\n",
              "    <tr>\n",
              "      <th>0</th>\n",
              "      <td>0</td>\n",
              "      <td>1</td>\n",
              "      <td>Toy Story (1995)</td>\n",
              "      <td>Adventure|Animation|Children|Comedy|Fantasy</td>\n",
              "      <td>Adventure Animation Children Comedy Fantasy</td>\n",
              "      <td>1995</td>\n",
              "      <td>Toy Story</td>\n",
              "    </tr>\n",
              "    <tr>\n",
              "      <th>1</th>\n",
              "      <td>1</td>\n",
              "      <td>2</td>\n",
              "      <td>Jumanji (1995)</td>\n",
              "      <td>Adventure|Children|Fantasy</td>\n",
              "      <td>Adventure Children Fantasy</td>\n",
              "      <td>1995</td>\n",
              "      <td>Jumanji</td>\n",
              "    </tr>\n",
              "  </tbody>\n",
              "</table>\n",
              "</div>"
            ],
            "text/plain": [
              "   index  movieId             title  \\\n",
              "0      0        1  Toy Story (1995)   \n",
              "1      1        2    Jumanji (1995)   \n",
              "\n",
              "                                        genres  \\\n",
              "0  Adventure|Animation|Children|Comedy|Fantasy   \n",
              "1                   Adventure|Children|Fantasy   \n",
              "\n",
              "                                           new  year movie_name  \n",
              "0  Adventure Animation Children Comedy Fantasy  1995  Toy Story  \n",
              "1                   Adventure Children Fantasy  1995    Jumanji  "
            ]
          },
          "execution_count": 15,
          "metadata": {},
          "output_type": "execute_result"
        }
      ],
      "source": [
        "movies_dataset.head(2)"
      ]
    },
    {
      "cell_type": "code",
      "execution_count": null,
      "metadata": {
        "id": "WJ4MGWhXZB_K"
      },
      "outputs": [],
      "source": [
        "def recommendataion(movie):\n",
        "    result=[]\n",
        "    ind=indices[movie]\n",
        "    sim_scores=list(enumerate(cosine_sim[ind]))\n",
        "    sim_scores=sorted(sim_scores,key=lambda x:x[1],reverse=True)\n",
        "    movie_id=[i[0] for i in sim_scores]\n",
        "    print('The Movie You Should Watched Next Are --')\n",
        "    print('ID ,   Name ,  Average Ratings , Year ')\n",
        "    count=0\n",
        "    for id in range(0,len(movie_id)):\n",
        "        if(ind != movie_id[id]):\n",
        "            ratings=ratings_dataset[ratings_dataset['movieId']==movie_id[id]]['rating']\n",
        "            avg_ratings=round(np.mean(ratings),2)\n",
        "            if(avg_ratings >3.5):\n",
        "                count+=1\n",
        "                print(f'{movie_id[id]} , {titles[movie_id[id]]} ,{avg_ratings}')\n",
        "                result.append([titles[movie_id[id]],str(avg_ratings)])\n",
        "            if(count >=10):\n",
        "                    break\n",
        "\n",
        "    print('Wait!! i am telling your recommendation')\n",
        "    return result"
      ]
    },
    {
      "cell_type": "code",
      "execution_count": null,
      "metadata": {
        "id": "y8aBIJWIZB_L",
        "outputId": "d86a937e-591f-494a-fe84-6b15337aedc8"
      },
      "outputs": [
        {
          "name": "stdout",
          "output_type": "stream",
          "text": [
            "Great Santini, The\n"
          ]
        }
      ],
      "source": [
        "query_index = np.random.choice(movies_dataset.movie_name)\n",
        "print(query_index)"
      ]
    },
    {
      "cell_type": "code",
      "execution_count": null,
      "metadata": {
        "id": "-Y3zzcUiZB_L",
        "outputId": "efec8726-3329-4ce9-8aed-c3ebca53da6c"
      },
      "outputs": [
        {
          "name": "stdout",
          "output_type": "stream",
          "text": [
            "The Movie You Should Watched Next Are --\n",
            "ID ,   Name ,  Average Ratings , Year \n",
            "13 , Nixon ,3.94\n",
            "25 , Othello ,3.74\n",
            "30 , Dangerous Minds ,4.05\n",
            "41 , Restoration ,4.02\n",
            "52 , Georgia ,3.64\n",
            "53 , Home for the Holidays ,5.0\n",
            "58 , Mr. Holland's Opus ,4.0\n",
            "116 , Angela ,4.75\n",
            "146 , Feast of July ,4.33\n",
            "154 , Kids ,3.81\n",
            "Wait!! i am telling your recommendation\n"
          ]
        }
      ],
      "source": [
        "result=recommendataion(query_index)"
      ]
    }
  ],
  "metadata": {
    "kernelspec": {
      "display_name": "Python 3",
      "language": "python",
      "name": "python3"
    },
    "language_info": {
      "codemirror_mode": {
        "name": "ipython",
        "version": 3
      },
      "file_extension": ".py",
      "mimetype": "text/x-python",
      "name": "python",
      "nbconvert_exporter": "python",
      "pygments_lexer": "ipython3",
      "version": "3.8.8"
    },
    "colab": {
      "provenance": []
    }
  },
  "nbformat": 4,
  "nbformat_minor": 0
}